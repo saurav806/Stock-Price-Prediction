{
 "cells": [
  {
   "cell_type": "markdown",
   "metadata": {},
   "source": [
    "# Stock Market Prediction Using Stacked LSTM\n",
    "\n",
    "#### Anurag Kujur - M210691CA\n",
    "#### Saurav Kumar - M210682CA"
   ]
  },
  {
   "cell_type": "code",
   "execution_count": 121,
   "metadata": {},
   "outputs": [],
   "source": [
    "# The goal of time series forecasting is to predict future values of a variable based on its historical behavior. \n",
    "# We are using an LSTM (Long Short-Term Memory) neural network to predict the future stock prices of Tata Motors.\n",
    "# LSTMs are a type of recurrent neural network (RNN) that are specifically designed for time series prediction."
   ]
  },
  {
   "cell_type": "code",
   "execution_count": 122,
   "metadata": {},
   "outputs": [],
   "source": [
    "# Data Collection\n",
    "import pandas_datareader as pdr\n",
    "import matplotlib.pyplot as plt\n",
    "import numpy as np\n",
    "import tensorflow as tf\n",
    "import pandas as pd"
   ]
  },
  {
   "cell_type": "code",
   "execution_count": 123,
   "metadata": {},
   "outputs": [],
   "source": [
    "df=pd.read_csv('TataMotors.csv')"
   ]
  },
  {
   "cell_type": "code",
   "execution_count": 124,
   "metadata": {},
   "outputs": [
    {
     "data": {
      "text/html": [
       "<div>\n",
       "<style scoped>\n",
       "    .dataframe tbody tr th:only-of-type {\n",
       "        vertical-align: middle;\n",
       "    }\n",
       "\n",
       "    .dataframe tbody tr th {\n",
       "        vertical-align: top;\n",
       "    }\n",
       "\n",
       "    .dataframe thead th {\n",
       "        text-align: right;\n",
       "    }\n",
       "</style>\n",
       "<table border=\"1\" class=\"dataframe\">\n",
       "  <thead>\n",
       "    <tr style=\"text-align: right;\">\n",
       "      <th></th>\n",
       "      <th>Date</th>\n",
       "      <th>Open</th>\n",
       "      <th>High</th>\n",
       "      <th>Low</th>\n",
       "      <th>Close</th>\n",
       "      <th>Adj Close</th>\n",
       "      <th>Volume</th>\n",
       "    </tr>\n",
       "  </thead>\n",
       "  <tbody>\n",
       "    <tr>\n",
       "      <th>0</th>\n",
       "      <td>2010-01-04</td>\n",
       "      <td>156.303482</td>\n",
       "      <td>164.040497</td>\n",
       "      <td>156.184769</td>\n",
       "      <td>163.535919</td>\n",
       "      <td>153.140778</td>\n",
       "      <td>27906448</td>\n",
       "    </tr>\n",
       "    <tr>\n",
       "      <th>1</th>\n",
       "      <td>2010-01-05</td>\n",
       "      <td>162.259598</td>\n",
       "      <td>167.147186</td>\n",
       "      <td>153.246277</td>\n",
       "      <td>160.686478</td>\n",
       "      <td>150.472473</td>\n",
       "      <td>23669317</td>\n",
       "    </tr>\n",
       "    <tr>\n",
       "      <th>2</th>\n",
       "      <td>2010-01-06</td>\n",
       "      <td>162.200241</td>\n",
       "      <td>162.932388</td>\n",
       "      <td>159.311234</td>\n",
       "      <td>160.933823</td>\n",
       "      <td>150.704086</td>\n",
       "      <td>14990820</td>\n",
       "    </tr>\n",
       "    <tr>\n",
       "      <th>3</th>\n",
       "      <td>2010-01-07</td>\n",
       "      <td>161.171280</td>\n",
       "      <td>161.923218</td>\n",
       "      <td>154.344498</td>\n",
       "      <td>155.432831</td>\n",
       "      <td>145.552765</td>\n",
       "      <td>22722030</td>\n",
       "    </tr>\n",
       "    <tr>\n",
       "      <th>4</th>\n",
       "      <td>2010-01-08</td>\n",
       "      <td>156.323273</td>\n",
       "      <td>159.251862</td>\n",
       "      <td>155.343781</td>\n",
       "      <td>156.283707</td>\n",
       "      <td>146.349579</td>\n",
       "      <td>16495776</td>\n",
       "    </tr>\n",
       "  </tbody>\n",
       "</table>\n",
       "</div>"
      ],
      "text/plain": [
       "         Date        Open        High         Low       Close   Adj Close  \\\n",
       "0  2010-01-04  156.303482  164.040497  156.184769  163.535919  153.140778   \n",
       "1  2010-01-05  162.259598  167.147186  153.246277  160.686478  150.472473   \n",
       "2  2010-01-06  162.200241  162.932388  159.311234  160.933823  150.704086   \n",
       "3  2010-01-07  161.171280  161.923218  154.344498  155.432831  145.552765   \n",
       "4  2010-01-08  156.323273  159.251862  155.343781  156.283707  146.349579   \n",
       "\n",
       "     Volume  \n",
       "0  27906448  \n",
       "1  23669317  \n",
       "2  14990820  \n",
       "3  22722030  \n",
       "4  16495776  "
      ]
     },
     "execution_count": 124,
     "metadata": {},
     "output_type": "execute_result"
    }
   ],
   "source": [
    "df.head()"
   ]
  },
  {
   "cell_type": "code",
   "execution_count": 125,
   "metadata": {},
   "outputs": [
    {
     "data": {
      "text/html": [
       "<div>\n",
       "<style scoped>\n",
       "    .dataframe tbody tr th:only-of-type {\n",
       "        vertical-align: middle;\n",
       "    }\n",
       "\n",
       "    .dataframe tbody tr th {\n",
       "        vertical-align: top;\n",
       "    }\n",
       "\n",
       "    .dataframe thead th {\n",
       "        text-align: right;\n",
       "    }\n",
       "</style>\n",
       "<table border=\"1\" class=\"dataframe\">\n",
       "  <thead>\n",
       "    <tr style=\"text-align: right;\">\n",
       "      <th></th>\n",
       "      <th>Date</th>\n",
       "      <th>Open</th>\n",
       "      <th>High</th>\n",
       "      <th>Low</th>\n",
       "      <th>Close</th>\n",
       "      <th>Adj Close</th>\n",
       "      <th>Volume</th>\n",
       "    </tr>\n",
       "  </thead>\n",
       "  <tbody>\n",
       "    <tr>\n",
       "      <th>3273</th>\n",
       "      <td>2023-04-06</td>\n",
       "      <td>426.500000</td>\n",
       "      <td>439.299988</td>\n",
       "      <td>423.750000</td>\n",
       "      <td>437.649994</td>\n",
       "      <td>437.649994</td>\n",
       "      <td>10907492</td>\n",
       "    </tr>\n",
       "    <tr>\n",
       "      <th>3274</th>\n",
       "      <td>2023-04-10</td>\n",
       "      <td>452.049988</td>\n",
       "      <td>473.299988</td>\n",
       "      <td>452.000000</td>\n",
       "      <td>461.299988</td>\n",
       "      <td>461.299988</td>\n",
       "      <td>50462653</td>\n",
       "    </tr>\n",
       "    <tr>\n",
       "      <th>3275</th>\n",
       "      <td>2023-04-11</td>\n",
       "      <td>463.750000</td>\n",
       "      <td>463.750000</td>\n",
       "      <td>455.799988</td>\n",
       "      <td>458.700012</td>\n",
       "      <td>458.700012</td>\n",
       "      <td>14495222</td>\n",
       "    </tr>\n",
       "    <tr>\n",
       "      <th>3276</th>\n",
       "      <td>2023-04-12</td>\n",
       "      <td>459.350006</td>\n",
       "      <td>468.600006</td>\n",
       "      <td>458.200012</td>\n",
       "      <td>465.500000</td>\n",
       "      <td>465.500000</td>\n",
       "      <td>13552440</td>\n",
       "    </tr>\n",
       "    <tr>\n",
       "      <th>3277</th>\n",
       "      <td>2023-04-13</td>\n",
       "      <td>464.950012</td>\n",
       "      <td>472.000000</td>\n",
       "      <td>463.250000</td>\n",
       "      <td>469.500000</td>\n",
       "      <td>469.500000</td>\n",
       "      <td>12733670</td>\n",
       "    </tr>\n",
       "  </tbody>\n",
       "</table>\n",
       "</div>"
      ],
      "text/plain": [
       "            Date        Open        High         Low       Close   Adj Close  \\\n",
       "3273  2023-04-06  426.500000  439.299988  423.750000  437.649994  437.649994   \n",
       "3274  2023-04-10  452.049988  473.299988  452.000000  461.299988  461.299988   \n",
       "3275  2023-04-11  463.750000  463.750000  455.799988  458.700012  458.700012   \n",
       "3276  2023-04-12  459.350006  468.600006  458.200012  465.500000  465.500000   \n",
       "3277  2023-04-13  464.950012  472.000000  463.250000  469.500000  469.500000   \n",
       "\n",
       "        Volume  \n",
       "3273  10907492  \n",
       "3274  50462653  \n",
       "3275  14495222  \n",
       "3276  13552440  \n",
       "3277  12733670  "
      ]
     },
     "execution_count": 125,
     "metadata": {},
     "output_type": "execute_result"
    }
   ],
   "source": [
    "df.tail()"
   ]
  },
  {
   "cell_type": "code",
   "execution_count": 126,
   "metadata": {},
   "outputs": [],
   "source": [
    "df1=df.reset_index()['Close']    #Select the 'Close' column"
   ]
  },
  {
   "cell_type": "code",
   "execution_count": 127,
   "metadata": {},
   "outputs": [
    {
     "data": {
      "text/plain": [
       "0       163.535919\n",
       "1       160.686478\n",
       "2       160.933823\n",
       "3       155.432831\n",
       "4       156.283707\n",
       "           ...    \n",
       "3273    437.649994\n",
       "3274    461.299988\n",
       "3275    458.700012\n",
       "3276    465.500000\n",
       "3277    469.500000\n",
       "Name: Close, Length: 3278, dtype: float64"
      ]
     },
     "execution_count": 127,
     "metadata": {},
     "output_type": "execute_result"
    }
   ],
   "source": [
    "df1"
   ]
  },
  {
   "cell_type": "code",
   "execution_count": 128,
   "metadata": {},
   "outputs": [
    {
     "data": {
      "text/plain": [
       "[<matplotlib.lines.Line2D at 0x2cd0bac4fd0>]"
      ]
     },
     "execution_count": 128,
     "metadata": {},
     "output_type": "execute_result"
    },
    {
     "data": {
      "image/png": "[encoded data removed]",
      "text/plain": [
       "<Figure size 640x480 with 1 Axes>"
      ]
     },
     "metadata": {},
     "output_type": "display_data"
    }
   ],
   "source": [
    "plt.plot(df1)"
   ]
  },
  {
   "cell_type": "code",
   "execution_count": 129,
   "metadata": {},
   "outputs": [],
   "source": [
    "# LSTM are sensitive to the scale of the data.So we apply MinMax scaler and scale our values between 0 to 1"
   ]
  },
  {
   "cell_type": "code",
   "execution_count": 130,
   "metadata": {},
   "outputs": [],
   "source": [
    "from sklearn.preprocessing import MinMaxScaler\n",
    "scaler=MinMaxScaler(feature_range=(0,1))     #scale down in the range 0,1\n",
    "df1=scaler.fit_transform(np.array(df1).reshape(-1,1))"
   ]
  },
  {
   "cell_type": "code",
   "execution_count": 131,
   "metadata": {},
   "outputs": [
    {
     "name": "stdout",
     "output_type": "stream",
     "text": [
      "[[0.18436482]\n",
      " [0.17901711]\n",
      " [0.17948132]\n",
      " ...\n",
      " [0.73831572]\n",
      " [0.75107763]\n",
      " [0.75858466]]\n"
     ]
    }
   ],
   "source": [
    "print(df1)"
   ]
  },
  {
   "cell_type": "code",
   "execution_count": 132,
   "metadata": {},
   "outputs": [],
   "source": [
    "# splitting dataset into train and test split\n",
    "training_size=int(len(df1)*0.65)   #65% training size\n",
    "test_size=len(df1)-training_size    #35% test size\n",
    "train_data,test_data=df1[0:training_size,:],df1[training_size:len(df1),:1]"
   ]
  },
  {
   "cell_type": "code",
   "execution_count": 133,
   "metadata": {},
   "outputs": [
    {
     "data": {
      "text/plain": [
       "(2130, 1148)"
      ]
     },
     "execution_count": 133,
     "metadata": {},
     "output_type": "execute_result"
    }
   ],
   "source": [
    "training_size,test_size"
   ]
  },
  {
   "cell_type": "code",
   "execution_count": 134,
   "metadata": {},
   "outputs": [
    {
     "data": {
      "text/plain": [
       "array([[0.18436482],\n",
       "       [0.17901711],\n",
       "       [0.17948132],\n",
       "       ...,\n",
       "       [0.34419699],\n",
       "       [0.34438467],\n",
       "       [0.34907656]])"
      ]
     },
     "execution_count": 134,
     "metadata": {},
     "output_type": "execute_result"
    }
   ],
   "source": [
    "train_data"
   ]
  },
  {
   "cell_type": "code",
   "execution_count": 135,
   "metadata": {},
   "outputs": [],
   "source": [
    "# DATA PREPROCESSING to be fed into LSTM model\n",
    "# create_dataset to convert the time series data into a format that can be fed into the LSTM network\n",
    "# This function creates a sliding window of time steps and associates each window with a corresponding output value. \n",
    "# The sliding window of time steps is created using a user-defined variable called 'time_step'.\n",
    "# Input data is a sequence of 100 stock prices, and the output data is the stock price that follows that sequence.\n",
    "import numpy\n",
    "def create_dataset(dataset, time_step=1):\n",
    "\tdataX, dataY = [], []\n",
    "\tfor i in range(len(dataset)-time_step-1):\n",
    "\t\ta = dataset[i:(i+time_step), 0]   ###i=0, 0,1,2,3-----99   100 \n",
    "\t\tdataX.append(a)                                 #append in X_train\n",
    "\t\tdataY.append(dataset[i + time_step, 0])         #append in Y_train\n",
    "\treturn numpy.array(dataX), numpy.array(dataY)"
   ]
  },
  {
   "cell_type": "code",
   "execution_count": 136,
   "metadata": {},
   "outputs": [],
   "source": [
    "# The training and test data are then converted into the required format using the create_dataset function. \n",
    "time_step = 100\n",
    "X_train, y_train = create_dataset(train_data, time_step)\n",
    "X_test, ytest = create_dataset(test_data, time_step)"
   ]
  },
  {
   "cell_type": "code",
   "execution_count": 137,
   "metadata": {},
   "outputs": [
    {
     "name": "stdout",
     "output_type": "stream",
     "text": [
      "(2029, 100)\n",
      "(2029,)\n"
     ]
    },
    {
     "data": {
      "text/plain": [
       "(None, None)"
      ]
     },
     "execution_count": 137,
     "metadata": {},
     "output_type": "execute_result"
    }
   ],
   "source": [
    "#X_train== 100 days data value (100 columns=100 features=independent variables)\n",
    "#Y_train== Value after 100 days (dependent variable)\n",
    "print(X_train.shape), print(y_train.shape)       "
   ]
  },
  {
   "cell_type": "code",
   "execution_count": 138,
   "metadata": {},
   "outputs": [
    {
     "name": "stdout",
     "output_type": "stream",
     "text": [
      "(1047, 100)\n",
      "(1047,)\n"
     ]
    },
    {
     "data": {
      "text/plain": [
       "(None, None)"
      ]
     },
     "execution_count": 138,
     "metadata": {},
     "output_type": "execute_result"
    }
   ],
   "source": [
    "print(X_test.shape), print(ytest.shape)"
   ]
  },
  {
   "cell_type": "code",
   "execution_count": 139,
   "metadata": {},
   "outputs": [],
   "source": [
    "# reshape input to be [samples, time steps, features] which is required for LSTM\n",
    "# Input to the LSTM network should be a 3D array, so the X_train and X_test arrays are reshaped accordingly.\n",
    "X_train =X_train.reshape(X_train.shape[0],X_train.shape[1] , 1)    \n",
    "X_test = X_test.reshape(X_test.shape[0],X_test.shape[1] , 1)    "
   ]
  },
  {
   "cell_type": "code",
   "execution_count": 140,
   "metadata": {},
   "outputs": [],
   "source": [
    "### Create the Stacked LSTM model\n",
    "from tensorflow.keras.models import Sequential\n",
    "from tensorflow.keras.layers import Dense\n",
    "from tensorflow.keras.layers import LSTM"
   ]
  },
  {
   "cell_type": "code",
   "execution_count": 141,
   "metadata": {},
   "outputs": [],
   "source": [
    "# The program creates an LSTM model using the Sequential class from the keras.models module.\n",
    "# The model consists of three LSTM layers with 50 units each, followed by a dense output layer with one unit.\n",
    "# The model is then compiled using the mean squared error as the loss function and the Adam optimizer.\n",
    "\n",
    "model=Sequential()   #creates an instance of a Sequential model.\n",
    "\n",
    "model.add(LSTM(50,return_sequences=True,input_shape=(100,1)))  \n",
    "# adds an LSTM layer to the model with 50 units.  \n",
    "# The input_shape=(100,1) argument specifies the shape of the input data that the model will expect\n",
    "\n",
    "model.add(LSTM(50,return_sequences=True))\n",
    "# adds another LSTM layer with 50 units and return_sequences=True.\n",
    "\n",
    "model.add(LSTM(50))\n",
    "# adds a final LSTM layer with 50 units. Since return_sequences is not specified,\n",
    "# it defaults to False, meaning that this layer will only return the last output in the sequence.\n",
    "\n",
    "model.add(Dense(1))\n",
    "# adds a Dense layer with 1 unit. This is the output layer of the model.\n",
    "\n",
    "model.compile(loss='mean_squared_error',optimizer='adam')\n",
    "# compiles the model and specifies the loss function and optimizer to use during training\n"
   ]
  },
  {
   "cell_type": "code",
   "execution_count": 142,
   "metadata": {},
   "outputs": [
    {
     "name": "stdout",
     "output_type": "stream",
     "text": [
      "Model: \"sequential_3\"\n",
      "_________________________________________________________________\n",
      " Layer (type)                Output Shape              Param #   \n",
      "=================================================================\n",
      " lstm_9 (LSTM)               (None, 100, 50)           10400     \n",
      "                                                                 \n",
      " lstm_10 (LSTM)              (None, 100, 50)           20200     \n",
      "                                                                 \n",
      " lstm_11 (LSTM)              (None, 50)                20200     \n",
      "                                                                 \n",
      " dense_3 (Dense)             (None, 1)                 51        \n",
      "                                                                 \n",
      "=================================================================\n",
      "Total params: 50,851\n",
      "Trainable params: 50,851\n",
      "Non-trainable params: 0\n",
      "_________________________________________________________________\n"
     ]
    }
   ],
   "source": [
    "model.summary()"
   ]
  },
  {
   "cell_type": "code",
   "execution_count": 143,
   "metadata": {},
   "outputs": [],
   "source": [
    "# We train the model using the fit function of the model object. \n",
    "#The training process takes 50 epochs, and the batch size is set to 64.\n",
    "\n",
    "#model.fit(X_train,y_train,validation_data=(X_test,ytest),epochs=50,batch_size=64,verbose=1)\n",
    "#model.save_weights('model.h5')"
   ]
  },
  {
   "cell_type": "code",
   "execution_count": 144,
   "metadata": {},
   "outputs": [],
   "source": [
    "#To load the already trained model\n",
    "\n",
    "model.load_weights('model.h5')"
   ]
  },
  {
   "cell_type": "code",
   "execution_count": 145,
   "metadata": {},
   "outputs": [
    {
     "name": "stdout",
     "output_type": "stream",
     "text": [
      "64/64 [==============================] - 3s 30ms/step\n",
      "33/33 [==============================] - 1s 30ms/step\n"
     ]
    }
   ],
   "source": [
    "# After training the model, we use it to make predictions on the training and testing datasets. \n",
    "train_predict=model.predict(X_train)\n",
    "test_predict=model.predict(X_test)"
   ]
  },
  {
   "cell_type": "code",
   "execution_count": 146,
   "metadata": {},
   "outputs": [],
   "source": [
    "# The predictions are scaled back to their original range using the inverse_transform method of the scaler object.\n",
    "train_predict=scaler.inverse_transform(train_predict)\n",
    "test_predict=scaler.inverse_transform(test_predict)"
   ]
  },
  {
   "cell_type": "code",
   "execution_count": 147,
   "metadata": {},
   "outputs": [
    {
     "data": {
      "text/plain": [
       "365.383475871724"
      ]
     },
     "execution_count": 147,
     "metadata": {},
     "output_type": "execute_result"
    }
   ],
   "source": [
    "# Calculate RMSE performance metrics\n",
    "import math\n",
    "from sklearn.metrics import mean_squared_error\n",
    "\n",
    "#Train data RMSE\n",
    "math.sqrt(mean_squared_error(y_train,train_predict))"
   ]
  },
  {
   "cell_type": "code",
   "execution_count": 148,
   "metadata": {},
   "outputs": [
    {
     "data": {
      "text/plain": [
       "311.31759563659375"
      ]
     },
     "execution_count": 148,
     "metadata": {},
     "output_type": "execute_result"
    }
   ],
   "source": [
    "# Test Data RMSE\n",
    "math.sqrt(mean_squared_error(ytest,test_predict))"
   ]
  },
  {
   "cell_type": "code",
   "execution_count": 149,
   "metadata": {},
   "outputs": [
    {
     "data": {
      "image/png": "[encoded data removed]",
      "text/plain": [
       "<Figure size 640x480 with 1 Axes>"
      ]
     },
     "metadata": {},
     "output_type": "display_data"
    }
   ],
   "source": [
    "# Plot the actual and predicted stock prices for both the training and test data\n",
    "# shift train predictions for plotting\n",
    "look_back=100\n",
    "trainPredictPlot = numpy.empty_like(df1)\n",
    "trainPredictPlot[:, :] = np.nan\n",
    "trainPredictPlot[look_back:len(train_predict)+look_back, :] = train_predict\n",
    "# shift test predictions for plotting\n",
    "testPredictPlot = numpy.empty_like(df1)\n",
    "testPredictPlot[:, :] = numpy.nan\n",
    "testPredictPlot[len(train_predict)+(look_back*2)+1:len(df1)-1, :] = test_predict\n",
    "# plot baseline and predictions\n",
    "plt.plot(scaler.inverse_transform(df1))\n",
    "plt.plot(trainPredictPlot,label='Train data Predicted')\n",
    "plt.plot(testPredictPlot,label='Test data Predicted')\n",
    "plt.legend()\n",
    "plt.show()\n"
   ]
  },
  {
   "cell_type": "code",
   "execution_count": 150,
   "metadata": {},
   "outputs": [
    {
     "data": {
      "text/plain": [
       "1148"
      ]
     },
     "execution_count": 150,
     "metadata": {},
     "output_type": "execute_result"
    }
   ],
   "source": [
    "len(test_data)"
   ]
  },
  {
   "cell_type": "code",
   "execution_count": 151,
   "metadata": {},
   "outputs": [
    {
     "data": {
      "text/plain": [
       "(1, 100)"
      ]
     },
     "execution_count": 151,
     "metadata": {},
     "output_type": "execute_result"
    }
   ],
   "source": [
    "#Taking the last 100 days test_data in x_input \n",
    "x_input=test_data[1048:].reshape(1,-1)  \n",
    "x_input.shape"
   ]
  },
  {
   "cell_type": "code",
   "execution_count": 152,
   "metadata": {},
   "outputs": [],
   "source": [
    "# Converting x_input into a list\n",
    "temp_input=list(x_input)\n",
    "temp_input=temp_input[0].tolist()"
   ]
  },
  {
   "cell_type": "code",
   "execution_count": 153,
   "metadata": {},
   "outputs": [
    {
     "name": "stdout",
     "output_type": "stream",
     "text": [
      "[0.74432313]\n",
      "101\n",
      "1 day input [0.66774969 0.67450602 0.67328609 0.67206621 0.69045845 0.69055226\n",
      " 0.69036457 0.7020943  0.69993604 0.69458727 0.68210686 0.67901022\n",
      " 0.66587293 0.66043035 0.65311096 0.65470621 0.66287011 0.66174405\n",
      " 0.65949198 0.66868807 0.66193174 0.64785607 0.63302971 0.61773416\n",
      " 0.58751838 0.59962342 0.6171711  0.61182234 0.60168787 0.60553525\n",
      " 0.61839098 0.61670191 0.60112486 0.60356462 0.59436853 0.60835038\n",
      " 0.65236027 0.66230711 0.65114039 0.64973282 0.65254796 0.65686447\n",
      " 0.64391487 0.6295577  0.6340619  0.64391487 0.66972026 0.66390231\n",
      " 0.71373021 0.71007051 0.72592912 0.71570078 0.71222877 0.7134487\n",
      " 0.70697387 0.69468115 0.70340805 0.69712091 0.71419939 0.70519093\n",
      " 0.70425255 0.71100889 0.70622318 0.70303267 0.70885063 0.69665172\n",
      " 0.68342061 0.69045845 0.6802301  0.66183792 0.666999   0.67694578\n",
      " 0.66652981 0.68069929 0.70340805 0.70190661 0.68858169 0.69543184\n",
      " 0.67018945 0.6593981  0.64945132 0.65761522 0.66380849 0.64832526\n",
      " 0.65170339 0.65836591 0.66408999 0.6591166  0.65076502 0.63115295\n",
      " 0.64541631 0.66718663 0.67366146 0.67797797 0.69880997 0.74319524\n",
      " 0.73831572 0.75107763 0.75858466 0.74432313]\n",
      "1 day output [[0.75300115]]\n",
      "2 day input [0.67450602 0.67328609 0.67206621 0.69045845 0.69055226 0.69036457\n",
      " 0.7020943  0.69993604 0.69458727 0.68210686 0.67901022 0.66587293\n",
      " 0.66043035 0.65311096 0.65470621 0.66287011 0.66174405 0.65949198\n",
      " 0.66868807 0.66193174 0.64785607 0.63302971 0.61773416 0.58751838\n",
      " 0.59962342 0.6171711  0.61182234 0.60168787 0.60553525 0.61839098\n",
      " 0.61670191 0.60112486 0.60356462 0.59436853 0.60835038 0.65236027\n",
      " 0.66230711 0.65114039 0.64973282 0.65254796 0.65686447 0.64391487\n",
      " 0.6295577  0.6340619  0.64391487 0.66972026 0.66390231 0.71373021\n",
      " 0.71007051 0.72592912 0.71570078 0.71222877 0.7134487  0.70697387\n",
      " 0.69468115 0.70340805 0.69712091 0.71419939 0.70519093 0.70425255\n",
      " 0.71100889 0.70622318 0.70303267 0.70885063 0.69665172 0.68342061\n",
      " 0.69045845 0.6802301  0.66183792 0.666999   0.67694578 0.66652981\n",
      " 0.68069929 0.70340805 0.70190661 0.68858169 0.69543184 0.67018945\n",
      " 0.6593981  0.64945132 0.65761522 0.66380849 0.64832526 0.65170339\n",
      " 0.65836591 0.66408999 0.6591166  0.65076502 0.63115295 0.64541631\n",
      " 0.66718663 0.67366146 0.67797797 0.69880997 0.74319524 0.73831572\n",
      " 0.75107763 0.75858466 0.74432313 0.75300115]\n",
      "2 day output [[0.75608146]]\n",
      "3 day input [0.67328609 0.67206621 0.69045845 0.69055226 0.69036457 0.7020943\n",
      " 0.69993604 0.69458727 0.68210686 0.67901022 0.66587293 0.66043035\n",
      " 0.65311096 0.65470621 0.66287011 0.66174405 0.65949198 0.66868807\n",
      " 0.66193174 0.64785607 0.63302971 0.61773416 0.58751838 0.59962342\n",
      " 0.6171711  0.61182234 0.60168787 0.60553525 0.61839098 0.61670191\n",
      " 0.60112486 0.60356462 0.59436853 0.60835038 0.65236027 0.66230711\n",
      " 0.65114039 0.64973282 0.65254796 0.65686447 0.64391487 0.6295577\n",
      " 0.6340619  0.64391487 0.66972026 0.66390231 0.71373021 0.71007051\n",
      " 0.72592912 0.71570078 0.71222877 0.7134487  0.70697387 0.69468115\n",
      " 0.70340805 0.69712091 0.71419939 0.70519093 0.70425255 0.71100889\n",
      " 0.70622318 0.70303267 0.70885063 0.69665172 0.68342061 0.69045845\n",
      " 0.6802301  0.66183792 0.666999   0.67694578 0.66652981 0.68069929\n",
      " 0.70340805 0.70190661 0.68858169 0.69543184 0.67018945 0.6593981\n",
      " 0.64945132 0.65761522 0.66380849 0.64832526 0.65170339 0.65836591\n",
      " 0.66408999 0.6591166  0.65076502 0.63115295 0.64541631 0.66718663\n",
      " 0.67366146 0.67797797 0.69880997 0.74319524 0.73831572 0.75107763\n",
      " 0.75858466 0.74432313 0.75300115 0.75608146]\n",
      "3 day output [[0.75570333]]\n",
      "4 day input [0.67206621 0.69045845 0.69055226 0.69036457 0.7020943  0.69993604\n",
      " 0.69458727 0.68210686 0.67901022 0.66587293 0.66043035 0.65311096\n",
      " 0.65470621 0.66287011 0.66174405 0.65949198 0.66868807 0.66193174\n",
      " 0.64785607 0.63302971 0.61773416 0.58751838 0.59962342 0.6171711\n",
      " 0.61182234 0.60168787 0.60553525 0.61839098 0.61670191 0.60112486\n",
      " 0.60356462 0.59436853 0.60835038 0.65236027 0.66230711 0.65114039\n",
      " 0.64973282 0.65254796 0.65686447 0.64391487 0.6295577  0.6340619\n",
      " 0.64391487 0.66972026 0.66390231 0.71373021 0.71007051 0.72592912\n",
      " 0.71570078 0.71222877 0.7134487  0.70697387 0.69468115 0.70340805\n",
      " 0.69712091 0.71419939 0.70519093 0.70425255 0.71100889 0.70622318\n",
      " 0.70303267 0.70885063 0.69665172 0.68342061 0.69045845 0.6802301\n",
      " 0.66183792 0.666999   0.67694578 0.66652981 0.68069929 0.70340805\n",
      " 0.70190661 0.68858169 0.69543184 0.67018945 0.6593981  0.64945132\n",
      " 0.65761522 0.66380849 0.64832526 0.65170339 0.65836591 0.66408999\n",
      " 0.6591166  0.65076502 0.63115295 0.64541631 0.66718663 0.67366146\n",
      " 0.67797797 0.69880997 0.74319524 0.73831572 0.75107763 0.75858466\n",
      " 0.74432313 0.75300115 0.75608146 0.75570333]\n",
      "4 day output [[0.75336516]]\n",
      "5 day input [0.69045845 0.69055226 0.69036457 0.7020943  0.69993604 0.69458727\n",
      " 0.68210686 0.67901022 0.66587293 0.66043035 0.65311096 0.65470621\n",
      " 0.66287011 0.66174405 0.65949198 0.66868807 0.66193174 0.64785607\n",
      " 0.63302971 0.61773416 0.58751838 0.59962342 0.6171711  0.61182234\n",
      " 0.60168787 0.60553525 0.61839098 0.61670191 0.60112486 0.60356462\n",
      " 0.59436853 0.60835038 0.65236027 0.66230711 0.65114039 0.64973282\n",
      " 0.65254796 0.65686447 0.64391487 0.6295577  0.6340619  0.64391487\n",
      " 0.66972026 0.66390231 0.71373021 0.71007051 0.72592912 0.71570078\n",
      " 0.71222877 0.7134487  0.70697387 0.69468115 0.70340805 0.69712091\n",
      " 0.71419939 0.70519093 0.70425255 0.71100889 0.70622318 0.70303267\n",
      " 0.70885063 0.69665172 0.68342061 0.69045845 0.6802301  0.66183792\n",
      " 0.666999   0.67694578 0.66652981 0.68069929 0.70340805 0.70190661\n",
      " 0.68858169 0.69543184 0.67018945 0.6593981  0.64945132 0.65761522\n",
      " 0.66380849 0.64832526 0.65170339 0.65836591 0.66408999 0.6591166\n",
      " 0.65076502 0.63115295 0.64541631 0.66718663 0.67366146 0.67797797\n",
      " 0.69880997 0.74319524 0.73831572 0.75107763 0.75858466 0.74432313\n",
      " 0.75300115 0.75608146 0.75570333 0.75336516]\n",
      "5 day output [[0.7499808]]\n",
      "6 day input [0.69055226 0.69036457 0.7020943  0.69993604 0.69458727 0.68210686\n",
      " 0.67901022 0.66587293 0.66043035 0.65311096 0.65470621 0.66287011\n",
      " 0.66174405 0.65949198 0.66868807 0.66193174 0.64785607 0.63302971\n",
      " 0.61773416 0.58751838 0.59962342 0.6171711  0.61182234 0.60168787\n",
      " 0.60553525 0.61839098 0.61670191 0.60112486 0.60356462 0.59436853\n",
      " 0.60835038 0.65236027 0.66230711 0.65114039 0.64973282 0.65254796\n",
      " 0.65686447 0.64391487 0.6295577  0.6340619  0.64391487 0.66972026\n",
      " 0.66390231 0.71373021 0.71007051 0.72592912 0.71570078 0.71222877\n",
      " 0.7134487  0.70697387 0.69468115 0.70340805 0.69712091 0.71419939\n",
      " 0.70519093 0.70425255 0.71100889 0.70622318 0.70303267 0.70885063\n",
      " 0.69665172 0.68342061 0.69045845 0.6802301  0.66183792 0.666999\n",
      " 0.67694578 0.66652981 0.68069929 0.70340805 0.70190661 0.68858169\n",
      " 0.69543184 0.67018945 0.6593981  0.64945132 0.65761522 0.66380849\n",
      " 0.64832526 0.65170339 0.65836591 0.66408999 0.6591166  0.65076502\n",
      " 0.63115295 0.64541631 0.66718663 0.67366146 0.67797797 0.69880997\n",
      " 0.74319524 0.73831572 0.75107763 0.75858466 0.74432313 0.75300115\n",
      " 0.75608146 0.75570333 0.75336516 0.74998081]\n",
      "6 day output [[0.7460928]]\n",
      "7 day input [0.69036457 0.7020943  0.69993604 0.69458727 0.68210686 0.67901022\n",
      " 0.66587293 0.66043035 0.65311096 0.65470621 0.66287011 0.66174405\n",
      " 0.65949198 0.66868807 0.66193174 0.64785607 0.63302971 0.61773416\n",
      " 0.58751838 0.59962342 0.6171711  0.61182234 0.60168787 0.60553525\n",
      " 0.61839098 0.61670191 0.60112486 0.60356462 0.59436853 0.60835038\n",
      " 0.65236027 0.66230711 0.65114039 0.64973282 0.65254796 0.65686447\n",
      " 0.64391487 0.6295577  0.6340619  0.64391487 0.66972026 0.66390231\n",
      " 0.71373021 0.71007051 0.72592912 0.71570078 0.71222877 0.7134487\n",
      " 0.70697387 0.69468115 0.70340805 0.69712091 0.71419939 0.70519093\n",
      " 0.70425255 0.71100889 0.70622318 0.70303267 0.70885063 0.69665172\n",
      " 0.68342061 0.69045845 0.6802301  0.66183792 0.666999   0.67694578\n",
      " 0.66652981 0.68069929 0.70340805 0.70190661 0.68858169 0.69543184\n",
      " 0.67018945 0.6593981  0.64945132 0.65761522 0.66380849 0.64832526\n",
      " 0.65170339 0.65836591 0.66408999 0.6591166  0.65076502 0.63115295\n",
      " 0.64541631 0.66718663 0.67366146 0.67797797 0.69880997 0.74319524\n",
      " 0.73831572 0.75107763 0.75858466 0.74432313 0.75300115 0.75608146\n",
      " 0.75570333 0.75336516 0.74998081 0.7460928 ]\n",
      "7 day output [[0.7420449]]\n",
      "8 day input [0.7020943  0.69993604 0.69458727 0.68210686 0.67901022 0.66587293\n",
      " 0.66043035 0.65311096 0.65470621 0.66287011 0.66174405 0.65949198\n",
      " 0.66868807 0.66193174 0.64785607 0.63302971 0.61773416 0.58751838\n",
      " 0.59962342 0.6171711  0.61182234 0.60168787 0.60553525 0.61839098\n",
      " 0.61670191 0.60112486 0.60356462 0.59436853 0.60835038 0.65236027\n",
      " 0.66230711 0.65114039 0.64973282 0.65254796 0.65686447 0.64391487\n",
      " 0.6295577  0.6340619  0.64391487 0.66972026 0.66390231 0.71373021\n",
      " 0.71007051 0.72592912 0.71570078 0.71222877 0.7134487  0.70697387\n",
      " 0.69468115 0.70340805 0.69712091 0.71419939 0.70519093 0.70425255\n",
      " 0.71100889 0.70622318 0.70303267 0.70885063 0.69665172 0.68342061\n",
      " 0.69045845 0.6802301  0.66183792 0.666999   0.67694578 0.66652981\n",
      " 0.68069929 0.70340805 0.70190661 0.68858169 0.69543184 0.67018945\n",
      " 0.6593981  0.64945132 0.65761522 0.66380849 0.64832526 0.65170339\n",
      " 0.65836591 0.66408999 0.6591166  0.65076502 0.63115295 0.64541631\n",
      " 0.66718663 0.67366146 0.67797797 0.69880997 0.74319524 0.73831572\n",
      " 0.75107763 0.75858466 0.74432313 0.75300115 0.75608146 0.75570333\n",
      " 0.75336516 0.74998081 0.7460928  0.74204493]\n"
     ]
    },
    {
     "name": "stdout",
     "output_type": "stream",
     "text": [
      "8 day output [[0.7380765]]\n",
      "9 day input [0.69993604 0.69458727 0.68210686 0.67901022 0.66587293 0.66043035\n",
      " 0.65311096 0.65470621 0.66287011 0.66174405 0.65949198 0.66868807\n",
      " 0.66193174 0.64785607 0.63302971 0.61773416 0.58751838 0.59962342\n",
      " 0.6171711  0.61182234 0.60168787 0.60553525 0.61839098 0.61670191\n",
      " 0.60112486 0.60356462 0.59436853 0.60835038 0.65236027 0.66230711\n",
      " 0.65114039 0.64973282 0.65254796 0.65686447 0.64391487 0.6295577\n",
      " 0.6340619  0.64391487 0.66972026 0.66390231 0.71373021 0.71007051\n",
      " 0.72592912 0.71570078 0.71222877 0.7134487  0.70697387 0.69468115\n",
      " 0.70340805 0.69712091 0.71419939 0.70519093 0.70425255 0.71100889\n",
      " 0.70622318 0.70303267 0.70885063 0.69665172 0.68342061 0.69045845\n",
      " 0.6802301  0.66183792 0.666999   0.67694578 0.66652981 0.68069929\n",
      " 0.70340805 0.70190661 0.68858169 0.69543184 0.67018945 0.6593981\n",
      " 0.64945132 0.65761522 0.66380849 0.64832526 0.65170339 0.65836591\n",
      " 0.66408999 0.6591166  0.65076502 0.63115295 0.64541631 0.66718663\n",
      " 0.67366146 0.67797797 0.69880997 0.74319524 0.73831572 0.75107763\n",
      " 0.75858466 0.74432313 0.75300115 0.75608146 0.75570333 0.75336516\n",
      " 0.74998081 0.7460928  0.74204493 0.73807651]\n",
      "9 day output [[0.7343631]]\n",
      "10 day input [0.69458727 0.68210686 0.67901022 0.66587293 0.66043035 0.65311096\n",
      " 0.65470621 0.66287011 0.66174405 0.65949198 0.66868807 0.66193174\n",
      " 0.64785607 0.63302971 0.61773416 0.58751838 0.59962342 0.6171711\n",
      " 0.61182234 0.60168787 0.60553525 0.61839098 0.61670191 0.60112486\n",
      " 0.60356462 0.59436853 0.60835038 0.65236027 0.66230711 0.65114039\n",
      " 0.64973282 0.65254796 0.65686447 0.64391487 0.6295577  0.6340619\n",
      " 0.64391487 0.66972026 0.66390231 0.71373021 0.71007051 0.72592912\n",
      " 0.71570078 0.71222877 0.7134487  0.70697387 0.69468115 0.70340805\n",
      " 0.69712091 0.71419939 0.70519093 0.70425255 0.71100889 0.70622318\n",
      " 0.70303267 0.70885063 0.69665172 0.68342061 0.69045845 0.6802301\n",
      " 0.66183792 0.666999   0.67694578 0.66652981 0.68069929 0.70340805\n",
      " 0.70190661 0.68858169 0.69543184 0.67018945 0.6593981  0.64945132\n",
      " 0.65761522 0.66380849 0.64832526 0.65170339 0.65836591 0.66408999\n",
      " 0.6591166  0.65076502 0.63115295 0.64541631 0.66718663 0.67366146\n",
      " 0.67797797 0.69880997 0.74319524 0.73831572 0.75107763 0.75858466\n",
      " 0.74432313 0.75300115 0.75608146 0.75570333 0.75336516 0.74998081\n",
      " 0.7460928  0.74204493 0.73807651 0.73436308]\n",
      "10 day output [[0.7310287]]\n",
      "11 day input [0.68210686 0.67901022 0.66587293 0.66043035 0.65311096 0.65470621\n",
      " 0.66287011 0.66174405 0.65949198 0.66868807 0.66193174 0.64785607\n",
      " 0.63302971 0.61773416 0.58751838 0.59962342 0.6171711  0.61182234\n",
      " 0.60168787 0.60553525 0.61839098 0.61670191 0.60112486 0.60356462\n",
      " 0.59436853 0.60835038 0.65236027 0.66230711 0.65114039 0.64973282\n",
      " 0.65254796 0.65686447 0.64391487 0.6295577  0.6340619  0.64391487\n",
      " 0.66972026 0.66390231 0.71373021 0.71007051 0.72592912 0.71570078\n",
      " 0.71222877 0.7134487  0.70697387 0.69468115 0.70340805 0.69712091\n",
      " 0.71419939 0.70519093 0.70425255 0.71100889 0.70622318 0.70303267\n",
      " 0.70885063 0.69665172 0.68342061 0.69045845 0.6802301  0.66183792\n",
      " 0.666999   0.67694578 0.66652981 0.68069929 0.70340805 0.70190661\n",
      " 0.68858169 0.69543184 0.67018945 0.6593981  0.64945132 0.65761522\n",
      " 0.66380849 0.64832526 0.65170339 0.65836591 0.66408999 0.6591166\n",
      " 0.65076502 0.63115295 0.64541631 0.66718663 0.67366146 0.67797797\n",
      " 0.69880997 0.74319524 0.73831572 0.75107763 0.75858466 0.74432313\n",
      " 0.75300115 0.75608146 0.75570333 0.75336516 0.74998081 0.7460928\n",
      " 0.74204493 0.73807651 0.73436308 0.73102868]\n",
      "11 day output [[0.72814953]]\n",
      "12 day input [0.67901022 0.66587293 0.66043035 0.65311096 0.65470621 0.66287011\n",
      " 0.66174405 0.65949198 0.66868807 0.66193174 0.64785607 0.63302971\n",
      " 0.61773416 0.58751838 0.59962342 0.6171711  0.61182234 0.60168787\n",
      " 0.60553525 0.61839098 0.61670191 0.60112486 0.60356462 0.59436853\n",
      " 0.60835038 0.65236027 0.66230711 0.65114039 0.64973282 0.65254796\n",
      " 0.65686447 0.64391487 0.6295577  0.6340619  0.64391487 0.66972026\n",
      " 0.66390231 0.71373021 0.71007051 0.72592912 0.71570078 0.71222877\n",
      " 0.7134487  0.70697387 0.69468115 0.70340805 0.69712091 0.71419939\n",
      " 0.70519093 0.70425255 0.71100889 0.70622318 0.70303267 0.70885063\n",
      " 0.69665172 0.68342061 0.69045845 0.6802301  0.66183792 0.666999\n",
      " 0.67694578 0.66652981 0.68069929 0.70340805 0.70190661 0.68858169\n",
      " 0.69543184 0.67018945 0.6593981  0.64945132 0.65761522 0.66380849\n",
      " 0.64832526 0.65170339 0.65836591 0.66408999 0.6591166  0.65076502\n",
      " 0.63115295 0.64541631 0.66718663 0.67366146 0.67797797 0.69880997\n",
      " 0.74319524 0.73831572 0.75107763 0.75858466 0.74432313 0.75300115\n",
      " 0.75608146 0.75570333 0.75336516 0.74998081 0.7460928  0.74204493\n",
      " 0.73807651 0.73436308 0.73102868 0.72814953]\n",
      "12 day output [[0.72575676]]\n",
      "13 day input [0.66587293 0.66043035 0.65311096 0.65470621 0.66287011 0.66174405\n",
      " 0.65949198 0.66868807 0.66193174 0.64785607 0.63302971 0.61773416\n",
      " 0.58751838 0.59962342 0.6171711  0.61182234 0.60168787 0.60553525\n",
      " 0.61839098 0.61670191 0.60112486 0.60356462 0.59436853 0.60835038\n",
      " 0.65236027 0.66230711 0.65114039 0.64973282 0.65254796 0.65686447\n",
      " 0.64391487 0.6295577  0.6340619  0.64391487 0.66972026 0.66390231\n",
      " 0.71373021 0.71007051 0.72592912 0.71570078 0.71222877 0.7134487\n",
      " 0.70697387 0.69468115 0.70340805 0.69712091 0.71419939 0.70519093\n",
      " 0.70425255 0.71100889 0.70622318 0.70303267 0.70885063 0.69665172\n",
      " 0.68342061 0.69045845 0.6802301  0.66183792 0.666999   0.67694578\n",
      " 0.66652981 0.68069929 0.70340805 0.70190661 0.68858169 0.69543184\n",
      " 0.67018945 0.6593981  0.64945132 0.65761522 0.66380849 0.64832526\n",
      " 0.65170339 0.65836591 0.66408999 0.6591166  0.65076502 0.63115295\n",
      " 0.64541631 0.66718663 0.67366146 0.67797797 0.69880997 0.74319524\n",
      " 0.73831572 0.75107763 0.75858466 0.74432313 0.75300115 0.75608146\n",
      " 0.75570333 0.75336516 0.74998081 0.7460928  0.74204493 0.73807651\n",
      " 0.73436308 0.73102868 0.72814953 0.72575676]\n",
      "13 day output [[0.72384214]]\n",
      "14 day input [0.66043035 0.65311096 0.65470621 0.66287011 0.66174405 0.65949198\n",
      " 0.66868807 0.66193174 0.64785607 0.63302971 0.61773416 0.58751838\n",
      " 0.59962342 0.6171711  0.61182234 0.60168787 0.60553525 0.61839098\n",
      " 0.61670191 0.60112486 0.60356462 0.59436853 0.60835038 0.65236027\n",
      " 0.66230711 0.65114039 0.64973282 0.65254796 0.65686447 0.64391487\n",
      " 0.6295577  0.6340619  0.64391487 0.66972026 0.66390231 0.71373021\n",
      " 0.71007051 0.72592912 0.71570078 0.71222877 0.7134487  0.70697387\n",
      " 0.69468115 0.70340805 0.69712091 0.71419939 0.70519093 0.70425255\n",
      " 0.71100889 0.70622318 0.70303267 0.70885063 0.69665172 0.68342061\n",
      " 0.69045845 0.6802301  0.66183792 0.666999   0.67694578 0.66652981\n",
      " 0.68069929 0.70340805 0.70190661 0.68858169 0.69543184 0.67018945\n",
      " 0.6593981  0.64945132 0.65761522 0.66380849 0.64832526 0.65170339\n",
      " 0.65836591 0.66408999 0.6591166  0.65076502 0.63115295 0.64541631\n",
      " 0.66718663 0.67366146 0.67797797 0.69880997 0.74319524 0.73831572\n",
      " 0.75107763 0.75858466 0.74432313 0.75300115 0.75608146 0.75570333\n",
      " 0.75336516 0.74998081 0.7460928  0.74204493 0.73807651 0.73436308\n",
      " 0.73102868 0.72814953 0.72575676 0.72384214]\n",
      "14 day output [[0.72236633]]\n",
      "15 day input [0.65311096 0.65470621 0.66287011 0.66174405 0.65949198 0.66868807\n",
      " 0.66193174 0.64785607 0.63302971 0.61773416 0.58751838 0.59962342\n",
      " 0.6171711  0.61182234 0.60168787 0.60553525 0.61839098 0.61670191\n",
      " 0.60112486 0.60356462 0.59436853 0.60835038 0.65236027 0.66230711\n",
      " 0.65114039 0.64973282 0.65254796 0.65686447 0.64391487 0.6295577\n",
      " 0.6340619  0.64391487 0.66972026 0.66390231 0.71373021 0.71007051\n",
      " 0.72592912 0.71570078 0.71222877 0.7134487  0.70697387 0.69468115\n",
      " 0.70340805 0.69712091 0.71419939 0.70519093 0.70425255 0.71100889\n",
      " 0.70622318 0.70303267 0.70885063 0.69665172 0.68342061 0.69045845\n",
      " 0.6802301  0.66183792 0.666999   0.67694578 0.66652981 0.68069929\n",
      " 0.70340805 0.70190661 0.68858169 0.69543184 0.67018945 0.6593981\n",
      " 0.64945132 0.65761522 0.66380849 0.64832526 0.65170339 0.65836591\n",
      " 0.66408999 0.6591166  0.65076502 0.63115295 0.64541631 0.66718663\n",
      " 0.67366146 0.67797797 0.69880997 0.74319524 0.73831572 0.75107763\n",
      " 0.75858466 0.74432313 0.75300115 0.75608146 0.75570333 0.75336516\n",
      " 0.74998081 0.7460928  0.74204493 0.73807651 0.73436308 0.73102868\n",
      " 0.72814953 0.72575676 0.72384214 0.72236633]\n",
      "15 day output [[0.721266]]\n",
      "16 day input [0.65470621 0.66287011 0.66174405 0.65949198 0.66868807 0.66193174\n",
      " 0.64785607 0.63302971 0.61773416 0.58751838 0.59962342 0.6171711\n",
      " 0.61182234 0.60168787 0.60553525 0.61839098 0.61670191 0.60112486\n",
      " 0.60356462 0.59436853 0.60835038 0.65236027 0.66230711 0.65114039\n",
      " 0.64973282 0.65254796 0.65686447 0.64391487 0.6295577  0.6340619\n",
      " 0.64391487 0.66972026 0.66390231 0.71373021 0.71007051 0.72592912\n",
      " 0.71570078 0.71222877 0.7134487  0.70697387 0.69468115 0.70340805\n",
      " 0.69712091 0.71419939 0.70519093 0.70425255 0.71100889 0.70622318\n",
      " 0.70303267 0.70885063 0.69665172 0.68342061 0.69045845 0.6802301\n",
      " 0.66183792 0.666999   0.67694578 0.66652981 0.68069929 0.70340805\n",
      " 0.70190661 0.68858169 0.69543184 0.67018945 0.6593981  0.64945132\n",
      " 0.65761522 0.66380849 0.64832526 0.65170339 0.65836591 0.66408999\n",
      " 0.6591166  0.65076502 0.63115295 0.64541631 0.66718663 0.67366146\n",
      " 0.67797797 0.69880997 0.74319524 0.73831572 0.75107763 0.75858466\n",
      " 0.74432313 0.75300115 0.75608146 0.75570333 0.75336516 0.74998081\n",
      " 0.7460928  0.74204493 0.73807651 0.73436308 0.73102868 0.72814953\n",
      " 0.72575676 0.72384214 0.72236633 0.72126597]\n"
     ]
    },
    {
     "name": "stdout",
     "output_type": "stream",
     "text": [
      "16 day output [[0.7204644]]\n",
      "17 day input [0.66287011 0.66174405 0.65949198 0.66868807 0.66193174 0.64785607\n",
      " 0.63302971 0.61773416 0.58751838 0.59962342 0.6171711  0.61182234\n",
      " 0.60168787 0.60553525 0.61839098 0.61670191 0.60112486 0.60356462\n",
      " 0.59436853 0.60835038 0.65236027 0.66230711 0.65114039 0.64973282\n",
      " 0.65254796 0.65686447 0.64391487 0.6295577  0.6340619  0.64391487\n",
      " 0.66972026 0.66390231 0.71373021 0.71007051 0.72592912 0.71570078\n",
      " 0.71222877 0.7134487  0.70697387 0.69468115 0.70340805 0.69712091\n",
      " 0.71419939 0.70519093 0.70425255 0.71100889 0.70622318 0.70303267\n",
      " 0.70885063 0.69665172 0.68342061 0.69045845 0.6802301  0.66183792\n",
      " 0.666999   0.67694578 0.66652981 0.68069929 0.70340805 0.70190661\n",
      " 0.68858169 0.69543184 0.67018945 0.6593981  0.64945132 0.65761522\n",
      " 0.66380849 0.64832526 0.65170339 0.65836591 0.66408999 0.6591166\n",
      " 0.65076502 0.63115295 0.64541631 0.66718663 0.67366146 0.67797797\n",
      " 0.69880997 0.74319524 0.73831572 0.75107763 0.75858466 0.74432313\n",
      " 0.75300115 0.75608146 0.75570333 0.75336516 0.74998081 0.7460928\n",
      " 0.74204493 0.73807651 0.73436308 0.73102868 0.72814953 0.72575676\n",
      " 0.72384214 0.72236633 0.72126597 0.72046441]\n",
      "17 day output [[0.719878]]\n",
      "18 day input [0.66174405 0.65949198 0.66868807 0.66193174 0.64785607 0.63302971\n",
      " 0.61773416 0.58751838 0.59962342 0.6171711  0.61182234 0.60168787\n",
      " 0.60553525 0.61839098 0.61670191 0.60112486 0.60356462 0.59436853\n",
      " 0.60835038 0.65236027 0.66230711 0.65114039 0.64973282 0.65254796\n",
      " 0.65686447 0.64391487 0.6295577  0.6340619  0.64391487 0.66972026\n",
      " 0.66390231 0.71373021 0.71007051 0.72592912 0.71570078 0.71222877\n",
      " 0.7134487  0.70697387 0.69468115 0.70340805 0.69712091 0.71419939\n",
      " 0.70519093 0.70425255 0.71100889 0.70622318 0.70303267 0.70885063\n",
      " 0.69665172 0.68342061 0.69045845 0.6802301  0.66183792 0.666999\n",
      " 0.67694578 0.66652981 0.68069929 0.70340805 0.70190661 0.68858169\n",
      " 0.69543184 0.67018945 0.6593981  0.64945132 0.65761522 0.66380849\n",
      " 0.64832526 0.65170339 0.65836591 0.66408999 0.6591166  0.65076502\n",
      " 0.63115295 0.64541631 0.66718663 0.67366146 0.67797797 0.69880997\n",
      " 0.74319524 0.73831572 0.75107763 0.75858466 0.74432313 0.75300115\n",
      " 0.75608146 0.75570333 0.75336516 0.74998081 0.7460928  0.74204493\n",
      " 0.73807651 0.73436308 0.73102868 0.72814953 0.72575676 0.72384214\n",
      " 0.72236633 0.72126597 0.72046441 0.71987802]\n",
      "18 day output [[0.71942383]]\n",
      "19 day input [0.65949198 0.66868807 0.66193174 0.64785607 0.63302971 0.61773416\n",
      " 0.58751838 0.59962342 0.6171711  0.61182234 0.60168787 0.60553525\n",
      " 0.61839098 0.61670191 0.60112486 0.60356462 0.59436853 0.60835038\n",
      " 0.65236027 0.66230711 0.65114039 0.64973282 0.65254796 0.65686447\n",
      " 0.64391487 0.6295577  0.6340619  0.64391487 0.66972026 0.66390231\n",
      " 0.71373021 0.71007051 0.72592912 0.71570078 0.71222877 0.7134487\n",
      " 0.70697387 0.69468115 0.70340805 0.69712091 0.71419939 0.70519093\n",
      " 0.70425255 0.71100889 0.70622318 0.70303267 0.70885063 0.69665172\n",
      " 0.68342061 0.69045845 0.6802301  0.66183792 0.666999   0.67694578\n",
      " 0.66652981 0.68069929 0.70340805 0.70190661 0.68858169 0.69543184\n",
      " 0.67018945 0.6593981  0.64945132 0.65761522 0.66380849 0.64832526\n",
      " 0.65170339 0.65836591 0.66408999 0.6591166  0.65076502 0.63115295\n",
      " 0.64541631 0.66718663 0.67366146 0.67797797 0.69880997 0.74319524\n",
      " 0.73831572 0.75107763 0.75858466 0.74432313 0.75300115 0.75608146\n",
      " 0.75570333 0.75336516 0.74998081 0.7460928  0.74204493 0.73807651\n",
      " 0.73436308 0.73102868 0.72814953 0.72575676 0.72384214 0.72236633\n",
      " 0.72126597 0.72046441 0.71987802 0.71942383]\n",
      "19 day output [[0.71902484]]\n",
      "20 day input [0.66868807 0.66193174 0.64785607 0.63302971 0.61773416 0.58751838\n",
      " 0.59962342 0.6171711  0.61182234 0.60168787 0.60553525 0.61839098\n",
      " 0.61670191 0.60112486 0.60356462 0.59436853 0.60835038 0.65236027\n",
      " 0.66230711 0.65114039 0.64973282 0.65254796 0.65686447 0.64391487\n",
      " 0.6295577  0.6340619  0.64391487 0.66972026 0.66390231 0.71373021\n",
      " 0.71007051 0.72592912 0.71570078 0.71222877 0.7134487  0.70697387\n",
      " 0.69468115 0.70340805 0.69712091 0.71419939 0.70519093 0.70425255\n",
      " 0.71100889 0.70622318 0.70303267 0.70885063 0.69665172 0.68342061\n",
      " 0.69045845 0.6802301  0.66183792 0.666999   0.67694578 0.66652981\n",
      " 0.68069929 0.70340805 0.70190661 0.68858169 0.69543184 0.67018945\n",
      " 0.6593981  0.64945132 0.65761522 0.66380849 0.64832526 0.65170339\n",
      " 0.65836591 0.66408999 0.6591166  0.65076502 0.63115295 0.64541631\n",
      " 0.66718663 0.67366146 0.67797797 0.69880997 0.74319524 0.73831572\n",
      " 0.75107763 0.75858466 0.74432313 0.75300115 0.75608146 0.75570333\n",
      " 0.75336516 0.74998081 0.7460928  0.74204493 0.73807651 0.73436308\n",
      " 0.73102868 0.72814953 0.72575676 0.72384214 0.72236633 0.72126597\n",
      " 0.72046441 0.71987802 0.71942383 0.71902484]\n",
      "20 day output [[0.71861297]]\n",
      "21 day input [0.66193174 0.64785607 0.63302971 0.61773416 0.58751838 0.59962342\n",
      " 0.6171711  0.61182234 0.60168787 0.60553525 0.61839098 0.61670191\n",
      " 0.60112486 0.60356462 0.59436853 0.60835038 0.65236027 0.66230711\n",
      " 0.65114039 0.64973282 0.65254796 0.65686447 0.64391487 0.6295577\n",
      " 0.6340619  0.64391487 0.66972026 0.66390231 0.71373021 0.71007051\n",
      " 0.72592912 0.71570078 0.71222877 0.7134487  0.70697387 0.69468115\n",
      " 0.70340805 0.69712091 0.71419939 0.70519093 0.70425255 0.71100889\n",
      " 0.70622318 0.70303267 0.70885063 0.69665172 0.68342061 0.69045845\n",
      " 0.6802301  0.66183792 0.666999   0.67694578 0.66652981 0.68069929\n",
      " 0.70340805 0.70190661 0.68858169 0.69543184 0.67018945 0.6593981\n",
      " 0.64945132 0.65761522 0.66380849 0.64832526 0.65170339 0.65836591\n",
      " 0.66408999 0.6591166  0.65076502 0.63115295 0.64541631 0.66718663\n",
      " 0.67366146 0.67797797 0.69880997 0.74319524 0.73831572 0.75107763\n",
      " 0.75858466 0.74432313 0.75300115 0.75608146 0.75570333 0.75336516\n",
      " 0.74998081 0.7460928  0.74204493 0.73807651 0.73436308 0.73102868\n",
      " 0.72814953 0.72575676 0.72384214 0.72236633 0.72126597 0.72046441\n",
      " 0.71987802 0.71942383 0.71902484 0.71861297]\n",
      "21 day output [[0.71813315]]\n",
      "22 day input [0.64785607 0.63302971 0.61773416 0.58751838 0.59962342 0.6171711\n",
      " 0.61182234 0.60168787 0.60553525 0.61839098 0.61670191 0.60112486\n",
      " 0.60356462 0.59436853 0.60835038 0.65236027 0.66230711 0.65114039\n",
      " 0.64973282 0.65254796 0.65686447 0.64391487 0.6295577  0.6340619\n",
      " 0.64391487 0.66972026 0.66390231 0.71373021 0.71007051 0.72592912\n",
      " 0.71570078 0.71222877 0.7134487  0.70697387 0.69468115 0.70340805\n",
      " 0.69712091 0.71419939 0.70519093 0.70425255 0.71100889 0.70622318\n",
      " 0.70303267 0.70885063 0.69665172 0.68342061 0.69045845 0.6802301\n",
      " 0.66183792 0.666999   0.67694578 0.66652981 0.68069929 0.70340805\n",
      " 0.70190661 0.68858169 0.69543184 0.67018945 0.6593981  0.64945132\n",
      " 0.65761522 0.66380849 0.64832526 0.65170339 0.65836591 0.66408999\n",
      " 0.6591166  0.65076502 0.63115295 0.64541631 0.66718663 0.67366146\n",
      " 0.67797797 0.69880997 0.74319524 0.73831572 0.75107763 0.75858466\n",
      " 0.74432313 0.75300115 0.75608146 0.75570333 0.75336516 0.74998081\n",
      " 0.7460928  0.74204493 0.73807651 0.73436308 0.73102868 0.72814953\n",
      " 0.72575676 0.72384214 0.72236633 0.72126597 0.72046441 0.71987802\n",
      " 0.71942383 0.71902484 0.71861297 0.71813315]\n",
      "22 day output [[0.7175439]]\n",
      "23 day input [0.63302971 0.61773416 0.58751838 0.59962342 0.6171711  0.61182234\n",
      " 0.60168787 0.60553525 0.61839098 0.61670191 0.60112486 0.60356462\n",
      " 0.59436853 0.60835038 0.65236027 0.66230711 0.65114039 0.64973282\n",
      " 0.65254796 0.65686447 0.64391487 0.6295577  0.6340619  0.64391487\n",
      " 0.66972026 0.66390231 0.71373021 0.71007051 0.72592912 0.71570078\n",
      " 0.71222877 0.7134487  0.70697387 0.69468115 0.70340805 0.69712091\n",
      " 0.71419939 0.70519093 0.70425255 0.71100889 0.70622318 0.70303267\n",
      " 0.70885063 0.69665172 0.68342061 0.69045845 0.6802301  0.66183792\n",
      " 0.666999   0.67694578 0.66652981 0.68069929 0.70340805 0.70190661\n",
      " 0.68858169 0.69543184 0.67018945 0.6593981  0.64945132 0.65761522\n",
      " 0.66380849 0.64832526 0.65170339 0.65836591 0.66408999 0.6591166\n",
      " 0.65076502 0.63115295 0.64541631 0.66718663 0.67366146 0.67797797\n",
      " 0.69880997 0.74319524 0.73831572 0.75107763 0.75858466 0.74432313\n",
      " 0.75300115 0.75608146 0.75570333 0.75336516 0.74998081 0.7460928\n",
      " 0.74204493 0.73807651 0.73436308 0.73102868 0.72814953 0.72575676\n",
      " 0.72384214 0.72236633 0.72126597 0.72046441 0.71987802 0.71942383\n",
      " 0.71902484 0.71861297 0.71813315 0.7175439 ]\n",
      "23 day output [[0.7168165]]\n",
      "24 day input [0.61773416 0.58751838 0.59962342 0.6171711  0.61182234 0.60168787\n",
      " 0.60553525 0.61839098 0.61670191 0.60112486 0.60356462 0.59436853\n",
      " 0.60835038 0.65236027 0.66230711 0.65114039 0.64973282 0.65254796\n",
      " 0.65686447 0.64391487 0.6295577  0.6340619  0.64391487 0.66972026\n",
      " 0.66390231 0.71373021 0.71007051 0.72592912 0.71570078 0.71222877\n",
      " 0.7134487  0.70697387 0.69468115 0.70340805 0.69712091 0.71419939\n",
      " 0.70519093 0.70425255 0.71100889 0.70622318 0.70303267 0.70885063\n",
      " 0.69665172 0.68342061 0.69045845 0.6802301  0.66183792 0.666999\n",
      " 0.67694578 0.66652981 0.68069929 0.70340805 0.70190661 0.68858169\n",
      " 0.69543184 0.67018945 0.6593981  0.64945132 0.65761522 0.66380849\n",
      " 0.64832526 0.65170339 0.65836591 0.66408999 0.6591166  0.65076502\n",
      " 0.63115295 0.64541631 0.66718663 0.67366146 0.67797797 0.69880997\n",
      " 0.74319524 0.73831572 0.75107763 0.75858466 0.74432313 0.75300115\n",
      " 0.75608146 0.75570333 0.75336516 0.74998081 0.7460928  0.74204493\n",
      " 0.73807651 0.73436308 0.73102868 0.72814953 0.72575676 0.72384214\n",
      " 0.72236633 0.72126597 0.72046441 0.71987802 0.71942383 0.71902484\n",
      " 0.71861297 0.71813315 0.7175439  0.71681648]\n"
     ]
    },
    {
     "name": "stdout",
     "output_type": "stream",
     "text": [
      "24 day output [[0.7159363]]\n",
      "25 day input [0.58751838 0.59962342 0.6171711  0.61182234 0.60168787 0.60553525\n",
      " 0.61839098 0.61670191 0.60112486 0.60356462 0.59436853 0.60835038\n",
      " 0.65236027 0.66230711 0.65114039 0.64973282 0.65254796 0.65686447\n",
      " 0.64391487 0.6295577  0.6340619  0.64391487 0.66972026 0.66390231\n",
      " 0.71373021 0.71007051 0.72592912 0.71570078 0.71222877 0.7134487\n",
      " 0.70697387 0.69468115 0.70340805 0.69712091 0.71419939 0.70519093\n",
      " 0.70425255 0.71100889 0.70622318 0.70303267 0.70885063 0.69665172\n",
      " 0.68342061 0.69045845 0.6802301  0.66183792 0.666999   0.67694578\n",
      " 0.66652981 0.68069929 0.70340805 0.70190661 0.68858169 0.69543184\n",
      " 0.67018945 0.6593981  0.64945132 0.65761522 0.66380849 0.64832526\n",
      " 0.65170339 0.65836591 0.66408999 0.6591166  0.65076502 0.63115295\n",
      " 0.64541631 0.66718663 0.67366146 0.67797797 0.69880997 0.74319524\n",
      " 0.73831572 0.75107763 0.75858466 0.74432313 0.75300115 0.75608146\n",
      " 0.75570333 0.75336516 0.74998081 0.7460928  0.74204493 0.73807651\n",
      " 0.73436308 0.73102868 0.72814953 0.72575676 0.72384214 0.72236633\n",
      " 0.72126597 0.72046441 0.71987802 0.71942383 0.71902484 0.71861297\n",
      " 0.71813315 0.7175439  0.71681648 0.7159363 ]\n",
      "25 day output [[0.71490055]]\n",
      "26 day input [0.59962342 0.6171711  0.61182234 0.60168787 0.60553525 0.61839098\n",
      " 0.61670191 0.60112486 0.60356462 0.59436853 0.60835038 0.65236027\n",
      " 0.66230711 0.65114039 0.64973282 0.65254796 0.65686447 0.64391487\n",
      " 0.6295577  0.6340619  0.64391487 0.66972026 0.66390231 0.71373021\n",
      " 0.71007051 0.72592912 0.71570078 0.71222877 0.7134487  0.70697387\n",
      " 0.69468115 0.70340805 0.69712091 0.71419939 0.70519093 0.70425255\n",
      " 0.71100889 0.70622318 0.70303267 0.70885063 0.69665172 0.68342061\n",
      " 0.69045845 0.6802301  0.66183792 0.666999   0.67694578 0.66652981\n",
      " 0.68069929 0.70340805 0.70190661 0.68858169 0.69543184 0.67018945\n",
      " 0.6593981  0.64945132 0.65761522 0.66380849 0.64832526 0.65170339\n",
      " 0.65836591 0.66408999 0.6591166  0.65076502 0.63115295 0.64541631\n",
      " 0.66718663 0.67366146 0.67797797 0.69880997 0.74319524 0.73831572\n",
      " 0.75107763 0.75858466 0.74432313 0.75300115 0.75608146 0.75570333\n",
      " 0.75336516 0.74998081 0.7460928  0.74204493 0.73807651 0.73436308\n",
      " 0.73102868 0.72814953 0.72575676 0.72384214 0.72236633 0.72126597\n",
      " 0.72046441 0.71987802 0.71942383 0.71902484 0.71861297 0.71813315\n",
      " 0.7175439  0.71681648 0.7159363  0.71490055]\n",
      "26 day output [[0.71371543]]\n",
      "27 day input [0.6171711  0.61182234 0.60168787 0.60553525 0.61839098 0.61670191\n",
      " 0.60112486 0.60356462 0.59436853 0.60835038 0.65236027 0.66230711\n",
      " 0.65114039 0.64973282 0.65254796 0.65686447 0.64391487 0.6295577\n",
      " 0.6340619  0.64391487 0.66972026 0.66390231 0.71373021 0.71007051\n",
      " 0.72592912 0.71570078 0.71222877 0.7134487  0.70697387 0.69468115\n",
      " 0.70340805 0.69712091 0.71419939 0.70519093 0.70425255 0.71100889\n",
      " 0.70622318 0.70303267 0.70885063 0.69665172 0.68342061 0.69045845\n",
      " 0.6802301  0.66183792 0.666999   0.67694578 0.66652981 0.68069929\n",
      " 0.70340805 0.70190661 0.68858169 0.69543184 0.67018945 0.6593981\n",
      " 0.64945132 0.65761522 0.66380849 0.64832526 0.65170339 0.65836591\n",
      " 0.66408999 0.6591166  0.65076502 0.63115295 0.64541631 0.66718663\n",
      " 0.67366146 0.67797797 0.69880997 0.74319524 0.73831572 0.75107763\n",
      " 0.75858466 0.74432313 0.75300115 0.75608146 0.75570333 0.75336516\n",
      " 0.74998081 0.7460928  0.74204493 0.73807651 0.73436308 0.73102868\n",
      " 0.72814953 0.72575676 0.72384214 0.72236633 0.72126597 0.72046441\n",
      " 0.71987802 0.71942383 0.71902484 0.71861297 0.71813315 0.7175439\n",
      " 0.71681648 0.7159363  0.71490055 0.71371543]\n",
      "27 day output [[0.71239525]]\n",
      "28 day input [0.61182234 0.60168787 0.60553525 0.61839098 0.61670191 0.60112486\n",
      " 0.60356462 0.59436853 0.60835038 0.65236027 0.66230711 0.65114039\n",
      " 0.64973282 0.65254796 0.65686447 0.64391487 0.6295577  0.6340619\n",
      " 0.64391487 0.66972026 0.66390231 0.71373021 0.71007051 0.72592912\n",
      " 0.71570078 0.71222877 0.7134487  0.70697387 0.69468115 0.70340805\n",
      " 0.69712091 0.71419939 0.70519093 0.70425255 0.71100889 0.70622318\n",
      " 0.70303267 0.70885063 0.69665172 0.68342061 0.69045845 0.6802301\n",
      " 0.66183792 0.666999   0.67694578 0.66652981 0.68069929 0.70340805\n",
      " 0.70190661 0.68858169 0.69543184 0.67018945 0.6593981  0.64945132\n",
      " 0.65761522 0.66380849 0.64832526 0.65170339 0.65836591 0.66408999\n",
      " 0.6591166  0.65076502 0.63115295 0.64541631 0.66718663 0.67366146\n",
      " 0.67797797 0.69880997 0.74319524 0.73831572 0.75107763 0.75858466\n",
      " 0.74432313 0.75300115 0.75608146 0.75570333 0.75336516 0.74998081\n",
      " 0.7460928  0.74204493 0.73807651 0.73436308 0.73102868 0.72814953\n",
      " 0.72575676 0.72384214 0.72236633 0.72126597 0.72046441 0.71987802\n",
      " 0.71942383 0.71902484 0.71861297 0.71813315 0.7175439  0.71681648\n",
      " 0.7159363  0.71490055 0.71371543 0.71239525]\n",
      "28 day output [[0.7109598]]\n",
      "29 day input [0.60168787 0.60553525 0.61839098 0.61670191 0.60112486 0.60356462\n",
      " 0.59436853 0.60835038 0.65236027 0.66230711 0.65114039 0.64973282\n",
      " 0.65254796 0.65686447 0.64391487 0.6295577  0.6340619  0.64391487\n",
      " 0.66972026 0.66390231 0.71373021 0.71007051 0.72592912 0.71570078\n",
      " 0.71222877 0.7134487  0.70697387 0.69468115 0.70340805 0.69712091\n",
      " 0.71419939 0.70519093 0.70425255 0.71100889 0.70622318 0.70303267\n",
      " 0.70885063 0.69665172 0.68342061 0.69045845 0.6802301  0.66183792\n",
      " 0.666999   0.67694578 0.66652981 0.68069929 0.70340805 0.70190661\n",
      " 0.68858169 0.69543184 0.67018945 0.6593981  0.64945132 0.65761522\n",
      " 0.66380849 0.64832526 0.65170339 0.65836591 0.66408999 0.6591166\n",
      " 0.65076502 0.63115295 0.64541631 0.66718663 0.67366146 0.67797797\n",
      " 0.69880997 0.74319524 0.73831572 0.75107763 0.75858466 0.74432313\n",
      " 0.75300115 0.75608146 0.75570333 0.75336516 0.74998081 0.7460928\n",
      " 0.74204493 0.73807651 0.73436308 0.73102868 0.72814953 0.72575676\n",
      " 0.72384214 0.72236633 0.72126597 0.72046441 0.71987802 0.71942383\n",
      " 0.71902484 0.71861297 0.71813315 0.7175439  0.71681648 0.7159363\n",
      " 0.71490055 0.71371543 0.71239525 0.71095979]\n",
      "29 day output [[0.7094318]]\n",
      "[[0.7443231344223022], [0.7530011534690857], [0.7560814619064331], [0.755703330039978], [0.753365159034729], [0.7499808073043823], [0.7460927963256836], [0.7420449256896973], [0.7380765080451965], [0.7343630790710449], [0.73102867603302], [0.7281495332717896], [0.7257567644119263], [0.7238421440124512], [0.7223663330078125], [0.721265971660614], [0.7204644083976746], [0.7198780179023743], [0.7194238305091858], [0.7190248370170593], [0.7186129689216614], [0.7181331515312195], [0.71754390001297], [0.7168164849281311], [0.7159363031387329], [0.714900553226471], [0.7137154340744019], [0.7123952507972717], [0.710959792137146], [0.7094318270683289]]\n"
     ]
    }
   ],
   "source": [
    "# We generate predictions for the next 30 days using the last 100 days of data from the test dataset. \n",
    "# The predictions are stored in a list called lst_output\n",
    "from numpy import array\n",
    "\n",
    "lst_output=[]\n",
    "n_steps=100\n",
    "i=0\n",
    "while(i<30):\n",
    "    \n",
    "    if(len(temp_input)>100):\n",
    "        #print(temp_input)\n",
    "        x_input=np.array(temp_input[1:])\n",
    "        print(\"{} day input {}\".format(i,x_input))\n",
    "        x_input=x_input.reshape(1,-1)\n",
    "        x_input = x_input.reshape((1, n_steps, 1))\n",
    "        #print(x_input)\n",
    "        yhat = model.predict(x_input, verbose=0)\n",
    "        print(\"{} day output {}\".format(i,yhat))\n",
    "        temp_input.extend(yhat[0].tolist())\n",
    "        temp_input=temp_input[1:]\n",
    "        #print(temp_input)\n",
    "        lst_output.extend(yhat.tolist())\n",
    "        i=i+1\n",
    "    else:\n",
    "        x_input = x_input.reshape((1, n_steps,1))\n",
    "        yhat = model.predict(x_input, verbose=0)\n",
    "        print(yhat[0])\n",
    "        temp_input.extend(yhat[0].tolist())\n",
    "        print(len(temp_input))\n",
    "        lst_output.extend(yhat.tolist())\n",
    "        i=i+1\n",
    "    \n",
    "\n",
    "print(lst_output)"
   ]
  },
  {
   "cell_type": "code",
   "execution_count": 154,
   "metadata": {},
   "outputs": [],
   "source": [
    "day_new=np.arange(1,101)     #100 days input\n",
    "day_pred=np.arange(101,131)  #Next 30 days output"
   ]
  },
  {
   "cell_type": "code",
   "execution_count": 155,
   "metadata": {},
   "outputs": [],
   "source": [
    "import matplotlib.pyplot as plt"
   ]
  },
  {
   "cell_type": "code",
   "execution_count": 156,
   "metadata": {},
   "outputs": [
    {
     "data": {
      "text/plain": [
       "3278"
      ]
     },
     "execution_count": 156,
     "metadata": {},
     "output_type": "execute_result"
    }
   ],
   "source": [
    "len(df1)"
   ]
  },
  {
   "cell_type": "code",
   "execution_count": 157,
   "metadata": {},
   "outputs": [
    {
     "data": {
      "text/plain": [
       "<matplotlib.legend.Legend at 0x2cd258ce700>"
      ]
     },
     "execution_count": 157,
     "metadata": {},
     "output_type": "execute_result"
    },
    {
     "data": {
      "image/png": "[encoded data removed]",
      "text/plain": [
       "<Figure size 640x480 with 1 Axes>"
      ]
     },
     "metadata": {},
     "output_type": "display_data"
    }
   ],
   "source": [
    "plt.plot(day_new,scaler.inverse_transform(df1[3178:]),label='Last 100 days stock')\n",
    "plt.plot(day_pred,scaler.inverse_transform(lst_output),label='Predicted next 30 days stock')\n",
    "plt.legend()"
   ]
  },
  {
   "cell_type": "code",
   "execution_count": 158,
   "metadata": {},
   "outputs": [],
   "source": [
    "df3=df1.tolist()\n",
    "df3.extend(lst_output)"
   ]
  },
  {
   "cell_type": "code",
   "execution_count": 159,
   "metadata": {},
   "outputs": [],
   "source": [
    "# The output of the model is then transformed back to the original scale,\n",
    "# Plot predicted values for the next 30 days against the actual values for the last 100 days of the test dataset\n",
    "df3=scaler.inverse_transform(df3).tolist()"
   ]
  },
  {
   "cell_type": "code",
   "execution_count": 160,
   "metadata": {},
   "outputs": [
    {
     "data": {
      "image/png": "[encoded data removed]",
      "text/plain": [
       "<Figure size 640x480 with 1 Axes>"
      ]
     },
     "metadata": {},
     "output_type": "display_data"
    }
   ],
   "source": [
    "plt.plot(df3)\n",
    "plt.show()\n",
    "#Final Graph"
   ]
  }
 ],
 "metadata": {
  "kernelspec": {
   "display_name": "Python 3 (ipykernel)",
   "language": "python",
   "name": "python3"
  },
  "language_info": {
   "codemirror_mode": {
    "name": "ipython",
    "version": 3
   },
   "file_extension": ".py",
   "mimetype": "text/x-python",
   "name": "python",
   "nbconvert_exporter": "python",
   "pygments_lexer": "ipython3",
   "version": "3.9.13"
  }
 },
 "nbformat": 4,
 "nbformat_minor": 2
}
